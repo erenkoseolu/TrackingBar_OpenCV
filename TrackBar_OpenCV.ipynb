{
 "cells": [
  {
   "cell_type": "code",
   "execution_count": 1,
   "metadata": {},
   "outputs": [],
   "source": [
    "import cv2\n",
    "import numpy as np"
   ]
  },
  {
   "cell_type": "code",
   "execution_count": 15,
   "metadata": {},
   "outputs": [
    {
     "data": {
      "text/plain": [
       "-1"
      ]
     },
     "execution_count": 15,
     "metadata": {},
     "output_type": "execute_result"
    }
   ],
   "source": [
    "def nothing(x):\n",
    "    pass\n",
    "\n",
    "canvas=np.zeros((512,512,3), dtype=np.uint8)\n",
    "cv2.namedWindow(\"Image\")\n",
    "\n",
    "cv2.createTrackbar(\"Red\", \"Image\", 0, 255, nothing)\n",
    "cv2.createTrackbar(\"Green\", \"Image\", 0, 255, nothing)\n",
    "cv2.createTrackbar(\"Blue\", \"Image\", 0, 255, nothing)\n",
    "\n",
    "switch = \"0:OFF-1:ON\"\n",
    "cv2.createTrackbar(switch, \"Image\", 0, 1, nothing)\n",
    "\n",
    "\n",
    "while True:\n",
    "    cv2.imshow(\"Image\", canvas)\n",
    "    if cv2.waitKey(1) & 0xFF==ord(\"q\"):\n",
    "        break \n",
    "\n",
    "    red=cv2.getTrackbarPos(\"Red\",\"Image\")\n",
    "    green=cv2.getTrackbarPos(\"Green\",\"Image\")\n",
    "    blue=cv2.getTrackbarPos(\"Blue\",\"Image\")\n",
    "    s=cv2.getTrackbarPos(switch,\"Image\")\n",
    "    \n",
    "    if s==0:\n",
    "        canvas[:]=[0,0,0]\n",
    "    else:\n",
    "        canvas[:]=[blue, green, red]    \n",
    "    \n",
    "cv2.destroyAllWindows()\n",
    "\n",
    "cv2.waitKey(0)"
   ]
  },
  {
   "cell_type": "code",
   "execution_count": null,
   "metadata": {},
   "outputs": [],
   "source": []
  }
 ],
 "metadata": {
  "kernelspec": {
   "display_name": "Python 3",
   "language": "python",
   "name": "python3"
  },
  "language_info": {
   "codemirror_mode": {
    "name": "ipython",
    "version": 3
   },
   "file_extension": ".py",
   "mimetype": "text/x-python",
   "name": "python",
   "nbconvert_exporter": "python",
   "pygments_lexer": "ipython3",
   "version": "3.6.10"
  }
 },
 "nbformat": 4,
 "nbformat_minor": 2
}
